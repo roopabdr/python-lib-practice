{
 "cells": [
  {
   "cell_type": "code",
   "execution_count": 1,
   "metadata": {
    "scrolled": true
   },
   "outputs": [],
   "source": [
    "import time\n",
    "import numpy as np"
   ]
  },
  {
   "cell_type": "code",
   "execution_count": 6,
   "metadata": {},
   "outputs": [],
   "source": [
    "x = np.random.random(100000000)"
   ]
  },
  {
   "cell_type": "code",
   "execution_count": 8,
   "metadata": {},
   "outputs": [
    {
     "name": "stdout",
     "output_type": "stream",
     "text": [
      "23.993213415145874\n"
     ]
    }
   ],
   "source": [
    "start = time.time()\n",
    "sum(x / len(x))\n",
    "print(time.time() - start)"
   ]
  },
  {
   "cell_type": "code",
   "execution_count": 9,
   "metadata": {},
   "outputs": [
    {
     "name": "stdout",
     "output_type": "stream",
     "text": [
      "0.2821636199951172\n"
     ]
    }
   ],
   "source": [
    "start = time.time()\n",
    "np.mean(x)\n",
    "print(time.time() - start)"
   ]
  },
  {
   "cell_type": "code",
   "execution_count": 10,
   "metadata": {},
   "outputs": [],
   "source": [
    "x = np.array([1,2,3,4,5])"
   ]
  },
  {
   "cell_type": "code",
   "execution_count": 11,
   "metadata": {},
   "outputs": [
    {
     "name": "stdout",
     "output_type": "stream",
     "text": [
      "[1 2 3 4 5]\n",
      "<class 'numpy.ndarray'>\n"
     ]
    }
   ],
   "source": [
    "print(x)\n",
    "print(type(x))"
   ]
  },
  {
   "cell_type": "code",
   "execution_count": 12,
   "metadata": {},
   "outputs": [
    {
     "data": {
      "text/plain": [
       "dtype('int32')"
      ]
     },
     "execution_count": 12,
     "metadata": {},
     "output_type": "execute_result"
    }
   ],
   "source": [
    "x.dtype"
   ]
  },
  {
   "cell_type": "code",
   "execution_count": 13,
   "metadata": {},
   "outputs": [
    {
     "data": {
      "text/plain": [
       "(5,)"
      ]
     },
     "execution_count": 13,
     "metadata": {},
     "output_type": "execute_result"
    }
   ],
   "source": [
    "x.shape"
   ]
  },
  {
   "cell_type": "code",
   "execution_count": 14,
   "metadata": {},
   "outputs": [
    {
     "name": "stdout",
     "output_type": "stream",
     "text": [
      "[[ 1  2  3]\n",
      " [ 4  5  6]\n",
      " [ 7  8  9]\n",
      " [10 11 12]]\n"
     ]
    }
   ],
   "source": [
    "y = np.array([[1,2,3],[4,5,6],[7,8,9],[10,11,12]])\n",
    "print(y)"
   ]
  },
  {
   "cell_type": "code",
   "execution_count": 15,
   "metadata": {},
   "outputs": [
    {
     "data": {
      "text/plain": [
       "(4, 3)"
      ]
     },
     "execution_count": 15,
     "metadata": {},
     "output_type": "execute_result"
    }
   ],
   "source": [
    "y.shape"
   ]
  },
  {
   "cell_type": "code",
   "execution_count": 16,
   "metadata": {},
   "outputs": [
    {
     "data": {
      "text/plain": [
       "12"
      ]
     },
     "execution_count": 16,
     "metadata": {},
     "output_type": "execute_result"
    }
   ],
   "source": [
    "y.size"
   ]
  },
  {
   "cell_type": "code",
   "execution_count": 19,
   "metadata": {},
   "outputs": [
    {
     "name": "stdout",
     "output_type": "stream",
     "text": [
      "['Hello' 'World']\n",
      "(2,)\n",
      "<class 'numpy.ndarray'>\n",
      "<U5\n"
     ]
    }
   ],
   "source": [
    "x = np.array(['Hello', 'World'])\n",
    "print(x)\n",
    "print(x.shape)\n",
    "print(type(x))\n",
    "print(x.dtype)"
   ]
  },
  {
   "cell_type": "code",
   "execution_count": 21,
   "metadata": {},
   "outputs": [
    {
     "name": "stdout",
     "output_type": "stream",
     "text": [
      "['1' '2' 'World']\n",
      "(3,)\n",
      "<class 'numpy.ndarray'>\n",
      "<U11\n"
     ]
    }
   ],
   "source": [
    "x = np.array([1,2,'World'])\n",
    "print(x)\n",
    "print(x.shape)\n",
    "print(type(x))\n",
    "print(x.dtype)"
   ]
  },
  {
   "cell_type": "code",
   "execution_count": 22,
   "metadata": {},
   "outputs": [
    {
     "name": "stdout",
     "output_type": "stream",
     "text": [
      "[1.  2.5 5. ]\n",
      "float64\n"
     ]
    }
   ],
   "source": [
    "x = np.array([1, 2.5, 5])\n",
    "print(x)\n",
    "print(x.dtype)"
   ]
  },
  {
   "cell_type": "code",
   "execution_count": 27,
   "metadata": {},
   "outputs": [
    {
     "name": "stdout",
     "output_type": "stream",
     "text": [
      "[1 2 3]\n",
      "int64\n"
     ]
    }
   ],
   "source": [
    "x = np.array([1.5, 2.2, 3.7], dtype=np.int64)\n",
    "print(x)\n",
    "print(x.dtype)"
   ]
  },
  {
   "cell_type": "code",
   "execution_count": 28,
   "metadata": {},
   "outputs": [],
   "source": [
    "# saving an array to current directory with filename as my_array\n",
    "x = np.array([1, 2, 3, 4, 5])\n",
    "np.save('my_array', x)"
   ]
  },
  {
   "cell_type": "code",
   "execution_count": 29,
   "metadata": {},
   "outputs": [
    {
     "name": "stdout",
     "output_type": "stream",
     "text": [
      "[1 2 3 4 5]\n"
     ]
    }
   ],
   "source": [
    "# loading array from file into another variable\n",
    "y = np.load('my_array.npy')\n",
    "print(y)"
   ]
  },
  {
   "cell_type": "code",
   "execution_count": 3,
   "metadata": {},
   "outputs": [
    {
     "data": {
      "text/plain": [
       "array([1, 2, 3, 4, 5])"
      ]
     },
     "execution_count": 3,
     "metadata": {},
     "output_type": "execute_result"
    }
   ],
   "source": [
    "my_list = [1,2,3,4,5]\n",
    "np.array(my_list)"
   ]
  },
  {
   "cell_type": "code",
   "execution_count": 11,
   "metadata": {},
   "outputs": [
    {
     "name": "stdout",
     "output_type": "stream",
     "text": [
      "[[0. 0. 0. 0.]\n",
      " [0. 0. 0. 0.]\n",
      " [0. 0. 0. 0.]]\n",
      "float64\n"
     ]
    }
   ],
   "source": [
    "#using numpy functions to create arrays by itself --> default data type (dtype) is float\n",
    "X = np.zeros((3,4))\n",
    "print(X)\n",
    "print(X.dtype)"
   ]
  },
  {
   "cell_type": "code",
   "execution_count": 12,
   "metadata": {},
   "outputs": [
    {
     "name": "stdout",
     "output_type": "stream",
     "text": [
      "[[0 0 0 0]\n",
      " [0 0 0 0]\n",
      " [0 0 0 0]]\n",
      "int32\n"
     ]
    }
   ],
   "source": [
    "#using numpy functions to create arrays by itself --> setting the data type to be int overriding the default dtype\n",
    "X = np.zeros((3,4), dtype=int)\n",
    "print(X)\n",
    "print(X.dtype)"
   ]
  },
  {
   "cell_type": "code",
   "execution_count": 13,
   "metadata": {},
   "outputs": [
    {
     "name": "stdout",
     "output_type": "stream",
     "text": [
      "[[0 0 0 0]\n",
      " [0 0 0 0]\n",
      " [0 0 0 0]]\n",
      "int64\n"
     ]
    }
   ],
   "source": [
    "#using numpy functions to create arrays by itself --> setting the data type to be 64-bit int dtype\n",
    "X = np.zeros((3,4), dtype=np.int64)\n",
    "print(X)\n",
    "print(X.dtype)"
   ]
  },
  {
   "cell_type": "code",
   "execution_count": 14,
   "metadata": {},
   "outputs": [
    {
     "name": "stdout",
     "output_type": "stream",
     "text": [
      "[[1. 1. 1. 1. 1.]\n",
      " [1. 1. 1. 1. 1.]\n",
      " [1. 1. 1. 1. 1.]\n",
      " [1. 1. 1. 1. 1.]]\n",
      "float64\n"
     ]
    }
   ],
   "source": [
    "X = np.ones((4,5))\n",
    "print(X)\n",
    "print(X.dtype)"
   ]
  },
  {
   "cell_type": "code",
   "execution_count": 15,
   "metadata": {},
   "outputs": [
    {
     "name": "stdout",
     "output_type": "stream",
     "text": [
      "[[5 5 5]\n",
      " [5 5 5]\n",
      " [5 5 5]\n",
      " [5 5 5]]\n",
      "int32\n"
     ]
    }
   ],
   "source": [
    "# other than the standard zeros and ones functions above - you can also create arrays with your custom number using 'full' function as below\n",
    "X = np.full((4,3), 5)\n",
    "print(X)\n",
    "print(X.dtype)\n",
    "# full function by default creates the dtype exactly as the value inputed in the function - ex: int instead of the default float as in zeros and ones function\n",
    "\n",
    "# if you want to change the default data type - use the dtype parameter in the full function as the third argument"
   ]
  },
  {
   "cell_type": "code",
   "execution_count": 16,
   "metadata": {},
   "outputs": [
    {
     "name": "stdout",
     "output_type": "stream",
     "text": [
      "[[1. 0. 0. 0. 0.]\n",
      " [0. 1. 0. 0. 0.]\n",
      " [0. 0. 1. 0. 0.]\n",
      " [0. 0. 0. 1. 0.]\n",
      " [0. 0. 0. 0. 1.]]\n",
      "float64\n"
     ]
    }
   ],
   "source": [
    "# create an 'identity matrix' as below --> all 'identity maxtricies' have ones along their 'main diagonal' and zeros everywhere else.\n",
    "# Also an 'identity maxtrix' is always a square maxtrix where no. of rows is equal to no. of columns\n",
    "X = np.eye(5)\n",
    "print(X)\n",
    "print(X.dtype)\n",
    "# note that the default data type here is float again, use the dtype argument in the function to make it otherwise"
   ]
  },
  {
   "cell_type": "code",
   "execution_count": 17,
   "metadata": {},
   "outputs": [
    {
     "name": "stdout",
     "output_type": "stream",
     "text": [
      "[[10  0  0  0]\n",
      " [ 0 20  0  0]\n",
      " [ 0  0 30  0]\n",
      " [ 0  0  0 40]]\n",
      "int32\n"
     ]
    }
   ],
   "source": [
    "# numpy also has a \"diag\" function to create a diagonal function where we can specify what data we want displayed in the main diagonal of the matrix\n",
    "# and this creates a square matrix\n",
    "X = np.diag([10, 20, 30, 40])\n",
    "print(X)\n",
    "print(X.dtype)"
   ]
  },
  {
   "cell_type": "code",
   "execution_count": 18,
   "metadata": {},
   "outputs": [
    {
     "name": "stdout",
     "output_type": "stream",
     "text": [
      "[0 1 2 3 4 5 6 7 8 9]\n",
      "[4 5 6 7 8 9]\n",
      "[ 1  4  7 10 13]\n"
     ]
    }
   ],
   "source": [
    "# numpy has useful functions to generate arrays with specific numerical ranges\n",
    "X = np.arange(10) # arange function takes 3 arguments - start, stop and step\n",
    "print(X)\n",
    "X = np.arange(4, 10)\n",
    "print(X)\n",
    "X = np.arange(1, 14, 3)\n",
    "print(X)"
   ]
  },
  {
   "cell_type": "code",
   "execution_count": 20,
   "metadata": {},
   "outputs": [
    {
     "name": "stdout",
     "output_type": "stream",
     "text": [
      "[ 0.          2.77777778  5.55555556  8.33333333 11.11111111 13.88888889\n",
      " 16.66666667 19.44444444 22.22222222 25.        ]\n",
      "[ 0.   2.5  5.   7.5 10.  12.5 15.  17.5 20.  22.5]\n"
     ]
    }
   ],
   "source": [
    "# for creating numerical arrays with non-integer steps use 'linspace' function\n",
    "# takes 2 arguments --> start, stop and n\n",
    "# this returns n evenly spaced numbers from start to stop --> start and stop inclusive\n",
    "# at least 2 arguments is mandatorya and n defaults to 50\n",
    "X = np.linspace(0, 25, 10)\n",
    "print(X)\n",
    "\n",
    "# you can exclude the end number such as 25 in the above function by marking the endpoint false\n",
    "X = np.linspace(0,25, 10, endpoint=False)\n",
    "print(X)"
   ]
  },
  {
   "cell_type": "code",
   "execution_count": 27,
   "metadata": {},
   "outputs": [
    {
     "name": "stdout",
     "output_type": "stream",
     "text": [
      "[ 0  1  2  3  4  5  6  7  8  9 10 11 12 13 14 15 16 17 18 19]\n",
      "*******************************************************************\n",
      "[[ 0  1  2  3  4]\n",
      " [ 5  6  7  8  9]\n",
      " [10 11 12 13 14]\n",
      " [15 16 17 18 19]]\n",
      "*******************************************************************\n",
      "[[ 0  1]\n",
      " [ 2  3]\n",
      " [ 4  5]\n",
      " [ 6  7]\n",
      " [ 8  9]\n",
      " [10 11]\n",
      " [12 13]\n",
      " [14 15]\n",
      " [16 17]\n",
      " [18 19]]\n"
     ]
    }
   ],
   "source": [
    "# creating rank 2 arrays using numpy\n",
    "# combine the 'reshape' function with the rnak 1 functions such as arange and the linspace functions to create 'rank 2' arrays\n",
    "Y = np.arange(20)\n",
    "print(Y)\n",
    "\n",
    "print('*******************************************************************')\n",
    "\n",
    "X = np.reshape(Y, (4,5))\n",
    "print(X)\n",
    "\n",
    "print('*******************************************************************')\n",
    "\n",
    "X = np.reshape(Y, (10, 2))\n",
    "print(X)"
   ]
  },
  {
   "cell_type": "code",
   "execution_count": 28,
   "metadata": {},
   "outputs": [
    {
     "name": "stdout",
     "output_type": "stream",
     "text": [
      "[[ 0.  5.]\n",
      " [10. 15.]\n",
      " [20. 25.]\n",
      " [30. 35.]\n",
      " [40. 45.]]\n"
     ]
    }
   ],
   "source": [
    "Z = np.linspace(0, 50, 10, endpoint=False).reshape(5, 2)\n",
    "print(Z)"
   ]
  },
  {
   "cell_type": "code",
   "execution_count": 32,
   "metadata": {},
   "outputs": [
    {
     "name": "stdout",
     "output_type": "stream",
     "text": [
      "[[0.0178828  0.25018504 0.23141785]\n",
      " [0.67454088 0.66082771 0.51857594]\n",
      " [0.71816123 0.28845984 0.68227088]]\n",
      "*******************************************************************\n",
      "*******************************************************************\n",
      "[[ 6 12]\n",
      " [ 8  5]\n",
      " [ 9  7]]\n"
     ]
    }
   ],
   "source": [
    "# creating random arrays using numpy\n",
    "X = np.random.random((3,3)) # creates a random array between numbers 0 and 1\n",
    "print(X)\n",
    "\n",
    "print('*******************************************************************')\n",
    "print('*******************************************************************')\n",
    "\n",
    "# create an array of random integers\n",
    "X = np.random.randint(4, 15, (3,2))\n",
    "print(X)"
   ]
  },
  {
   "cell_type": "code",
   "execution_count": 35,
   "metadata": {},
   "outputs": [
    {
     "name": "stdout",
     "output_type": "stream",
     "text": [
      "[[ 0.11874958 -0.03740378 -0.0909486  ...  0.01874639  0.0501548\n",
      "  -0.10394022]\n",
      " [-0.08964598  0.00805655  0.02619594 ...  0.05110565 -0.29462998\n",
      "  -0.05960218]\n",
      " [ 0.14151551 -0.10407141  0.09035264 ... -0.03360286 -0.00064336\n",
      "   0.25635808]\n",
      " ...\n",
      " [ 0.05125315  0.12957596 -0.0395897  ...  0.02561426 -0.19969719\n",
      "  -0.0238212 ]\n",
      " [-0.09140141 -0.20588693 -0.15123658 ...  0.13522897  0.1608845\n",
      "  -0.05991245]\n",
      " [-0.08745238 -0.05576018 -0.05671172 ... -0.05132949  0.19443601\n",
      "   0.04338143]]\n",
      "*******************************************************************\n",
      "*******************************************************************\n",
      "*******************************************************************\n",
      "*******************************************************************\n",
      "mean:  0.00011654497202725929\n",
      "std:  0.09998916517920234\n",
      "max:  0.47365087717576637\n",
      "min:  -0.4794943384452006\n",
      "# positive:  500467\n",
      "# negetive:  499533\n"
     ]
    }
   ],
   "source": [
    "# creeate an array for normal distribution\n",
    "X = np.random.normal(0, 0.1, size=(1000, 1000))\n",
    "print(X)\n",
    "\n",
    "# the above creates an random float array of 1000 X 1000 drawn from a normal distribution \n",
    "# with the mean of zero and a standard deviation of 0.1\n",
    "\n",
    "print('*******************************************************************')\n",
    "print('*******************************************************************')\n",
    "print('*******************************************************************')\n",
    "print('*******************************************************************')\n",
    "# below calculates some of the normal distribution functions using numpy on the above generated 1000x1000 array\n",
    "print('mean: ', X.mean())\n",
    "print('std: ', X.std())\n",
    "print('max: ', X.max())\n",
    "print('min: ', X.min())\n",
    "print('# positive: ', (X > 0).sum())\n",
    "print('# negetive: ', (X < 0).sum())\n",
    "\n",
    "# As we can see, the average of the random numbers in the ndarray is close to zero, \n",
    "# both the maximum and minimum values in X are symmetric about zero (the average), \n",
    "# and we have about the same amount of positive and negative numbers."
   ]
  },
  {
   "cell_type": "code",
   "execution_count": 41,
   "metadata": {},
   "outputs": [
    {
     "name": "stdout",
     "output_type": "stream",
     "text": [
      "[[ 2  4  6  8]\n",
      " [10 12 14 16]\n",
      " [18 20 22 24]\n",
      " [26 28 30 32]]\n"
     ]
    }
   ],
   "source": [
    "# Using the Built-in functions you learned about in the\n",
    "# previous lesson, create a 4 x 4 ndarray that only\n",
    "# contains consecutive even numbers from 2 to 32 (inclusive)\n",
    "X = np.arange(2, 33, 2).reshape(4,4)\n",
    "print(X)"
   ]
  },
  {
   "cell_type": "code",
   "execution_count": 6,
   "metadata": {},
   "outputs": [
    {
     "name": "stdout",
     "output_type": "stream",
     "text": [
      "1st element: 1\n",
      "2nd element: 2\n",
      "3rd element: 3\n",
      "Last element: 5\n",
      "[1 2 3 4 5]\n",
      "3rd element: 20\n",
      "[ 1  2 20  4  5]\n"
     ]
    }
   ],
   "source": [
    "# Numpy Arrays are mutable\n",
    "x = np.array([1,2,3,4,5])\n",
    "print('1st element:', x[0])\n",
    "print('2nd element:', x[1])\n",
    "print('3rd element:', x[2])\n",
    "print('Last element:', x[-1])\n",
    "print(x)\n",
    "\n",
    "x[2] = 20\n",
    "print('3rd element:', x[2])\n",
    "print(x)"
   ]
  },
  {
   "cell_type": "code",
   "execution_count": 9,
   "metadata": {},
   "outputs": [
    {
     "name": "stdout",
     "output_type": "stream",
     "text": [
      "[[1 2 3]\n",
      " [4 5 6]\n",
      " [7 8 9]]\n",
      "*******************************************************************\n",
      "Element at (0,0) 1\n",
      "Element at (0,1) 2\n",
      "Element at (2,2) 9\n",
      "*******************************************************************\n",
      "[[20  2  3]\n",
      " [ 4  5  6]\n",
      " [ 7  8  9]]\n"
     ]
    }
   ],
   "source": [
    "# we can also modify the rank2 arrays similar to rank1 arrays as above\n",
    "X = np.arange(1,10).reshape(3,3)\n",
    "print(X)\n",
    "print('*******************************************************************')\n",
    "print('Element at (0,0)', X[0,0])\n",
    "print('Element at (0,1)', X[0,1])\n",
    "print('Element at (2,2)', X[2,2])\n",
    "print('*******************************************************************')\n",
    "X[0,0] = 20\n",
    "print(X)"
   ]
  },
  {
   "cell_type": "code",
   "execution_count": 11,
   "metadata": {},
   "outputs": [
    {
     "name": "stdout",
     "output_type": "stream",
     "text": [
      "[1 2 3 4 5]\n",
      "[2 3 4]\n",
      "*******************************************************************\n",
      "*******************************************************************\n",
      "[[1 2 3]\n",
      " [4 5 6]\n",
      " [7 8 9]]\n",
      "\n",
      " [[4 5 6]\n",
      " [7 8 9]]\n",
      "\n",
      " [[2]\n",
      " [5]\n",
      " [8]]\n"
     ]
    }
   ],
   "source": [
    "# we can delete elements from both rank 1 and rank 2 arrays by passing the indices and the axis element.\n",
    "# rank 1 arrays will not need an axis to be specified for element deletion\n",
    "# however rank 2 arrays will need axis to be specified where axis zero is used to select rows and axis one is used to select columns\n",
    "\n",
    "# rank 1\n",
    "x = np.array([1,2,3,4,5])\n",
    "print(x)\n",
    "x = np.delete(x, [0,4])\n",
    "print(x)\n",
    "print('*******************************************************************')\n",
    "print('*******************************************************************')\n",
    "Y = np.arange(1,10).reshape(3,3)\n",
    "print(Y)\n",
    "W = np.delete(Y, 0, axis=0)\n",
    "print('\\n', W)\n",
    "V = np.delete(Y, [0,2], axis=1)\n",
    "print('\\n', V)"
   ]
  },
  {
   "cell_type": "code",
   "execution_count": 13,
   "metadata": {},
   "outputs": [
    {
     "name": "stdout",
     "output_type": "stream",
     "text": [
      "[1 2 3 4 5]\n",
      "[1 2 3 4 5 6]\n",
      "[1 2 3 4 5 6 7 8 9]\n"
     ]
    }
   ],
   "source": [
    "# we can add values to NUmPy arrays using the append function\n",
    "# this function takes in an array\n",
    "# the list of elements to append\n",
    "# and the axis to append it on\n",
    "\n",
    "x = np.array([1,2,3,4,5])\n",
    "print(x)\n",
    "\n",
    "x = np.append(x, 6)\n",
    "print(x)\n",
    "\n",
    "x = np.append(x, [7,8,9]) # appending more than one element\n",
    "print(x)"
   ]
  },
  {
   "cell_type": "code",
   "execution_count": 16,
   "metadata": {},
   "outputs": [
    {
     "name": "stdout",
     "output_type": "stream",
     "text": [
      "[[1 2 3]\n",
      " [4 5 6]\n",
      " [7 8 9]]\n",
      "*******************************************************************\n",
      "*******************************************************************\n",
      "[[ 1  2  3]\n",
      " [ 4  5  6]\n",
      " [ 7  8  9]\n",
      " [10 11 12]]\n",
      "*******************************************************************\n",
      "*******************************************************************\n",
      "[[ 1  2  3 10]\n",
      " [ 4  5  6 11]\n",
      " [ 7  8  9 12]]\n"
     ]
    }
   ],
   "source": [
    "# appending in rank 2 array\n",
    "Y = np.arange(1,10).reshape(3,3)\n",
    "print(Y)\n",
    "\n",
    "print('*******************************************************************')\n",
    "print('*******************************************************************')\n",
    "\n",
    "W = np.append(Y, [[10,11,12]], axis=0) # appendings as a row\n",
    "print(W)\n",
    "\n",
    "print('*******************************************************************')\n",
    "print('*******************************************************************')\n",
    "\n",
    "V = np.append(Y, [[10],[11],[12]], axis=1) # appendings as a column\n",
    "print(V)"
   ]
  },
  {
   "cell_type": "code",
   "execution_count": 18,
   "metadata": {},
   "outputs": [
    {
     "name": "stdout",
     "output_type": "stream",
     "text": [
      "[1 2 5 6 7]\n",
      "*******************************************************************\n",
      "[1 2 3 4 5 6 7]\n"
     ]
    }
   ],
   "source": [
    "# inserting values into rank 1 NumPy arrays\n",
    "# this takes in array, index, element, and axis\n",
    "x = np.array([1,2,5,6,7])\n",
    "print(x)\n",
    "\n",
    "print('*******************************************************************')\n",
    "\n",
    "x = np.insert(x, 2, [3,4])\n",
    "print(x)"
   ]
  },
  {
   "cell_type": "code",
   "execution_count": 26,
   "metadata": {},
   "outputs": [
    {
     "name": "stdout",
     "output_type": "stream",
     "text": [
      "[[1 2 3]\n",
      " [7 8 9]]\n",
      "*******************************************************************\n",
      "*******************************************************************\n",
      "[[1 2 3]\n",
      " [4 5 6]\n",
      " [7 8 9]]\n",
      "*******************************************************************\n",
      "*******************************************************************\n",
      "[[1 5 2 3]\n",
      " [7 5 8 9]]\n"
     ]
    }
   ],
   "source": [
    "# inserting values into rank 2 NumPy arrays\n",
    "# this takes in array, index, element, and axis\n",
    "Y = np.array([[1,2,3], [7,8,9]])\n",
    "print(Y)\n",
    "print('*******************************************************************')\n",
    "print('*******************************************************************')\n",
    "W = np.insert(Y, 1, [[4,5,6]], axis=0) # inserting a row in between\n",
    "print(W)\n",
    "print('*******************************************************************')\n",
    "print('*******************************************************************')\n",
    "V = np.insert(Y, 1, 5, axis=1) # inserting a column in between\n",
    "print(V)"
   ]
  },
  {
   "cell_type": "code",
   "execution_count": 2,
   "metadata": {
    "scrolled": true
   },
   "outputs": [
    {
     "name": "stdout",
     "output_type": "stream",
     "text": [
      "[1 2]\n",
      "*******************************************************************\n",
      "*******************************************************************\n",
      "[[3 4]\n",
      " [5 6]]\n",
      "*******************************************************************\n",
      "*******************************************************************\n",
      "[[1 2]\n",
      " [3 4]\n",
      " [5 6]]\n",
      "*******************************************************************\n",
      "*******************************************************************\n",
      "[[3 4 1]\n",
      " [5 6 2]]\n"
     ]
    }
   ],
   "source": [
    "# stacking arrays using HStack and VStack - in order to do this the shape of the arraus should be exactly the same\n",
    "# rank 1 array\n",
    "x = np.array([1,2])\n",
    "print(x)\n",
    "print('*******************************************************************')\n",
    "print('*******************************************************************')\n",
    "Y = np.array([[3,4], [5,6]])\n",
    "print(Y)\n",
    "print('*******************************************************************')\n",
    "print('*******************************************************************')\n",
    "z = np.vstack((x, Y)) # vertical stacking x array on Y array\n",
    "print(z)\n",
    "print('*******************************************************************')\n",
    "print('*******************************************************************')\n",
    "w = np.hstack((Y, x.reshape(2, 1))) \n",
    "# above - horizontal stacking on x array on Y by reshaping x array as an array with 2 rows and 1 column instead of 1 row adn column which the initial state\n",
    "print(w)"
   ]
  },
  {
   "cell_type": "markdown",
   "metadata": {},
   "source": [
    "# slicing an ndarray\n",
    "1. ndarray[start:end] # here the element at ending element is excluded with the starting element still inclusive\n",
    "2. ndarray[start:] # here the element from the start to end are all inclusive\n",
    "3. ndarray[:end] # here the element at ending element is excluded with the starting element still inclusive"
   ]
  },
  {
   "cell_type": "code",
   "execution_count": 10,
   "metadata": {},
   "outputs": [
    {
     "name": "stdout",
     "output_type": "stream",
     "text": [
      "[[ 1  2  3  4  5]\n",
      " [ 6  7  8  9 10]\n",
      " [11 12 13 14 15]\n",
      " [16 17 18 19 20]]\n",
      "*******************************************************************\n",
      "*******************************************************************\n",
      "[[ 8  9 10]\n",
      " [13 14 15]\n",
      " [18 19 20]]\n",
      "*******************************************************************\n",
      "*******************************************************************\n",
      "[[ 8  9 10]\n",
      " [13 14 15]\n",
      " [18 19 20]]\n",
      "*******************************************************************\n",
      "*******************************************************************\n",
      "[[ 3  4  5]\n",
      " [ 8  9 10]\n",
      " [13 14 15]]\n",
      "*******************************************************************\n",
      "*******************************************************************\n",
      "[ 3  8 13 18]\n",
      "*******************************************************************\n",
      "*******************************************************************\n",
      "[[ 3]\n",
      " [ 8]\n",
      " [13]\n",
      " [18]]\n"
     ]
    }
   ],
   "source": [
    "X = np.arange(1,21).reshape(4, 5)\n",
    "print(X)\n",
    "print('*******************************************************************')\n",
    "print('*******************************************************************')\n",
    "# slicing an rank 2 array\n",
    "z = X[1:4, 2:5]\n",
    "print(z)\n",
    "# indices before the comma specifies what indices you want to grab from the rows\n",
    "# and the part after the comma specifies what indices you want to grab from the columns\n",
    "print('*******************************************************************')\n",
    "print('*******************************************************************')\n",
    "# accomplishing the above in a slightly different way\n",
    "z = X[1:, 2:]\n",
    "print(z)\n",
    "print('*******************************************************************')\n",
    "print('*******************************************************************')\n",
    "v = X[:3, 2:]\n",
    "print(v)\n",
    "print('*******************************************************************')\n",
    "print('*******************************************************************')\n",
    "# slicing only a column out of the above rank 2 array and this returns an rank 1 array\n",
    "z = X[:, 2]\n",
    "print(z)\n",
    "print('*******************************************************************')\n",
    "print('*******************************************************************')\n",
    "# slicing only a column out of the above rank 2 array but return a rank 2 array - we can do as below\n",
    "z = X[:, 2:3]\n",
    "print(z)"
   ]
  },
  {
   "cell_type": "code",
   "execution_count": 16,
   "metadata": {},
   "outputs": [
    {
     "name": "stdout",
     "output_type": "stream",
     "text": [
      "[[ 1  2  3  4  5]\n",
      " [ 6  7  8  9 10]\n",
      " [11 12 13 14 15]\n",
      " [16 17 18 19 20]]\n",
      "*******************************************************************\n",
      "*******************************************************************\n",
      "[[ 8  9 10]\n",
      " [13 14 15]\n",
      " [18 19 20]]\n",
      "[[ 1  2  3  4  5]\n",
      " [ 6  7  8  9 10]\n",
      " [11 12 13 14 15]\n",
      " [16 17 18 19 20]]\n",
      "*******************************************************************\n",
      "*******************************************************************\n",
      "[[ 9 10]\n",
      " [14 15]]\n",
      "[[ 1  2  3  4  5]\n",
      " [ 6  7  8  9 10]\n",
      " [11 12 13 14 15]\n",
      " [16 17 18 19 20]]\n"
     ]
    }
   ],
   "source": [
    "# since mumpy arrays are mutable any changes made with the use of slice method will change the orignal array as well\n",
    "# in order to create a new numpy array that contains a copy of the values in the slice, use the use the Numpy's Copy function\n",
    "X = np.arange(1,21).reshape(4, 5)\n",
    "print(X)\n",
    "print('*******************************************************************')\n",
    "print('*******************************************************************')\n",
    "Z = np.copy(X[1:, 2:])\n",
    "print(Z)\n",
    "print(X)\n",
    "\n",
    "print('*******************************************************************')\n",
    "print('*******************************************************************')\n",
    "# another way of using copy method\n",
    "Y = X[1:3, 3:].copy()\n",
    "print(Y)\n",
    "print(X)"
   ]
  },
  {
   "cell_type": "code",
   "execution_count": 25,
   "metadata": {},
   "outputs": [
    {
     "name": "stdout",
     "output_type": "stream",
     "text": [
      "[[ 0  1  2  3  4]\n",
      " [ 5  6  7  8  9]\n",
      " [10 11 12 13 14]\n",
      " [15 16 17 18 19]]\n",
      "*******************************************************************\n",
      "*******************************************************************\n",
      "[1 3]\n",
      "*******************************************************************\n",
      "*******************************************************************\n",
      "[[ 5  6  7  8  9]\n",
      " [15 16 17 18 19]]\n",
      "*******************************************************************\n",
      "*******************************************************************\n",
      "[[ 1  3]\n",
      " [ 6  8]\n",
      " [11 13]\n",
      " [16 18]]\n"
     ]
    }
   ],
   "source": [
    "# access rank 2 array using indices from an rank 1 array\n",
    "X = np.arange(20).reshape(4,5)\n",
    "print(X)\n",
    "print('*******************************************************************')\n",
    "print('*******************************************************************')\n",
    "indices = np.array([1,3])\n",
    "print(indices)\n",
    "print('*******************************************************************')\n",
    "print('*******************************************************************')\n",
    "y = X[indices, :]\n",
    "print(y)\n",
    "print('*******************************************************************')\n",
    "print('*******************************************************************')\n",
    "z = X[:, indices]\n",
    "print(z)"
   ]
  },
  {
   "cell_type": "code",
   "execution_count": 27,
   "metadata": {},
   "outputs": [
    {
     "name": "stdout",
     "output_type": "stream",
     "text": [
      "[ 0  6 12 18]\n",
      "[ 1  7 13 19]\n",
      "[ 5 11 17]\n"
     ]
    }
   ],
   "source": [
    "# extracting the elements along the diagonal of an rank 2 array\n",
    "z = np.diag(X)\n",
    "print(z)\n",
    "# we can also select the elements above the main diagonal of X by setting a parameter K equal to one\n",
    "z = np.diag(X, k=1)\n",
    "print(z)\n",
    "# if K is a negetive number this will grab the values below the main diagonal and by default k=0 and hence it picks the main diagonal\n",
    "z = np.diag(X, -1)\n",
    "print(z)"
   ]
  },
  {
   "cell_type": "code",
   "execution_count": 30,
   "metadata": {},
   "outputs": [
    {
     "name": "stdout",
     "output_type": "stream",
     "text": [
      "[[1 2 3]\n",
      " [5 2 8]\n",
      " [1 2 3]]\n",
      "*******************************************************************\n",
      "*******************************************************************\n",
      "[1 2 3 5 8]\n"
     ]
    }
   ],
   "source": [
    "# it is also possbile to select only the unique values from an numpy array and this is done by using the unique function\n",
    "X = np.array([[1,2,3], [5,2,8], [1,2,3]])\n",
    "print(X)\n",
    "print('*******************************************************************')\n",
    "print('*******************************************************************')\n",
    "print(np.unique(X))"
   ]
  },
  {
   "cell_type": "code",
   "execution_count": null,
   "metadata": {},
   "outputs": [],
   "source": []
  }
 ],
 "metadata": {
  "kernelspec": {
   "display_name": "Python 3",
   "language": "python",
   "name": "python3"
  },
  "language_info": {
   "codemirror_mode": {
    "name": "ipython",
    "version": 3
   },
   "file_extension": ".py",
   "mimetype": "text/x-python",
   "name": "python",
   "nbconvert_exporter": "python",
   "pygments_lexer": "ipython3",
   "version": "3.7.3"
  }
 },
 "nbformat": 4,
 "nbformat_minor": 2
}
